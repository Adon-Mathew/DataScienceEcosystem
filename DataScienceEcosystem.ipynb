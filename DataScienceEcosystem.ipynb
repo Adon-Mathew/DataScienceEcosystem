{
 "cells": [
  {
   "cell_type": "markdown",
   "id": "03e1bbd6-0aed-49b4-a9e2-8f28c7cdb56c",
   "metadata": {},
   "source": [
    "# Data Science Tools and Ecosystem "
   ]
  },
  {
   "cell_type": "markdown",
   "id": "359bc552-8b1b-4c63-9e48-9c1955744e18",
   "metadata": {},
   "source": [
    "In this notebook, Data Science Tools and Ecosystem are summarized"
   ]
  },
  {
   "cell_type": "markdown",
   "id": "4b9b842a-b413-4c50-8927-36656b7c7b73",
   "metadata": {},
   "source": [
    "some of the popular languages that Data Scientists use are:\n",
    "1. Python\n",
    "2. R\n",
    "3. SQL\n",
    "4. Scala\n",
    "5. Julia"
   ]
  },
  {
   "cell_type": "markdown",
   "id": "43ccb3cb-1909-4cd5-b5da-012f9252375d",
   "metadata": {},
   "source": [
    "Some of the commonly used libraries used by Data Scientists include:\n",
    "1. pandas\n",
    "2. Numpy\n",
    "3. Scikit-learn\n",
    "4. Keras\n",
    "5. Pytorch\n",
    "\n"
   ]
  },
  {
   "cell_type": "markdown",
   "id": "8d7f6da8-d521-4c13-a6f8-9fd8d42ad97a",
   "metadata": {},
   "source": [
    "| Data Science Tools |\n",
    "|--------------------|\n",
    "| Jupyter Notebooks |\n",
    "| R Studio |\n",
    "| Spyder |"
   ]
  },
  {
   "cell_type": "markdown",
   "id": "537b3ddc-cb0a-4abc-8618-9b319b9e96a4",
   "metadata": {},
   "source": [
    "### Below are a few examples of evaluating arithmetic expressions in python"
   ]
  },
  {
   "cell_type": "code",
   "execution_count": 19,
   "id": "077b6767-9a93-455f-adb3-a5e65df8dbf5",
   "metadata": {
    "tags": []
   },
   "outputs": [
    {
     "data": {
      "text/plain": [
       "17"
      ]
     },
     "execution_count": 19,
     "metadata": {},
     "output_type": "execute_result"
    }
   ],
   "source": [
    "# This a simple arithmetic expression to multiply then add integers\n",
    "(3*4)+5"
   ]
  },
  {
   "cell_type": "code",
   "execution_count": 20,
   "id": "b3058207-9d26-47fc-9d45-00f3c8a55be3",
   "metadata": {
    "tags": []
   },
   "outputs": [
    {
     "name": "stdout",
     "output_type": "stream",
     "text": [
      "3.3333333333333335\n"
     ]
    }
   ],
   "source": [
    "# This will convert 200 minutes to hours by dividing by 60\n",
    "minute=200\n",
    "hour=200/60\n",
    "print(hour)"
   ]
  },
  {
   "cell_type": "markdown",
   "id": "061c5133-f421-4ae3-86c9-40a689ec611f",
   "metadata": {},
   "source": [
    "__Objectives:__\n",
    "+ List Popular languages for Data Science\n",
    "+ List popular Libraries for Data Science\n",
    "+ List popular Tools for Data Science"
   ]
  },
  {
   "cell_type": "markdown",
   "id": "f098b4b9-be60-4fdc-ae2f-02965c0f16ef",
   "metadata": {},
   "source": [
    "## Author\n",
    "Adon Mathew"
   ]
  }
 ],
 "metadata": {
  "kernelspec": {
   "display_name": "Python",
   "language": "python",
   "name": "conda-env-python-py"
  },
  "language_info": {
   "codemirror_mode": {
    "name": "ipython",
    "version": 3
   },
   "file_extension": ".py",
   "mimetype": "text/x-python",
   "name": "python",
   "nbconvert_exporter": "python",
   "pygments_lexer": "ipython3",
   "version": "3.7.12"
  }
 },
 "nbformat": 4,
 "nbformat_minor": 5
}
